{
  "cells": [
    {
      "cell_type": "markdown",
      "metadata": {
        "id": "WqZF--Fsv0qv"
      },
      "source": [
        "# Modelo de Rede U-Net com Backbone Densenet-121 Pré-Treinada"
      ]
    },
    {
      "cell_type": "markdown",
      "metadata": {
        "id": "_kRFrRHswCwt"
      },
      "source": [
        "Conecta com base de dados armazenados no Google Drive"
      ]
    },
    {
      "cell_type": "markdown",
      "metadata": {
        "id": "d9NRuOVBvhWK"
      },
      "source": [
        "Baixando Dataset localmente"
      ]
    },
    {
      "cell_type": "code",
      "execution_count": 1,
      "metadata": {
        "colab": {
          "base_uri": "https://localhost:8080/"
        },
        "id": "weG9juDDu1U4",
        "outputId": "845169f8-bda7-4b3c-e334-6811f13d6c0a"
      },
      "outputs": [
        {
          "name": "stdout",
          "output_type": "stream",
          "text": [
            "Arquivo zip extraído para: /home/marcello/Repositories/DICOM-Project-Pytorch/data/dataset\n"
          ]
        }
      ],
      "source": [
        "import zipfile\n",
        "import os\n",
        "\n",
        "zip_path = '/home/marcello/Documentos/dicoms/dataset_jana.zip'\n",
        "\n",
        "json_path = '/home/marcello/Repositories/DICOM-Project-Pytorch/data/dataset10/dataset_jana.json'\n",
        "\n",
        "extract_dir = '/home/marcello/Repositories/DICOM-Project-Pytorch/data/dataset'\n",
        "\n",
        "os.makedirs(extract_dir, exist_ok=True)\n",
        "\n",
        "with zipfile.ZipFile(zip_path, 'r') as zip_ref:\n",
        "    zip_ref.extractall(extract_dir)\n",
        "\n",
        "print(f'Arquivo zip extraído para: {extract_dir}')\n"
      ]
    },
    {
      "cell_type": "markdown",
      "metadata": {
        "id": "uk2dB1DhwKBX"
      },
      "source": [
        "Importação de bibliotecas para execução construção e visualização do modelo e do conjunto de dados"
      ]
    },
    {
      "cell_type": "code",
      "execution_count": 2,
      "metadata": {
        "id": "g3KKXq95wsoI"
      },
      "outputs": [
        {
          "name": "stderr",
          "output_type": "stream",
          "text": [
            "2024-10-15 19:30:20.464993: E external/local_xla/xla/stream_executor/cuda/cuda_fft.cc:485] Unable to register cuFFT factory: Attempting to register factory for plugin cuFFT when one has already been registered\n",
            "2024-10-15 19:30:20.477032: E external/local_xla/xla/stream_executor/cuda/cuda_dnn.cc:8454] Unable to register cuDNN factory: Attempting to register factory for plugin cuDNN when one has already been registered\n",
            "2024-10-15 19:30:20.480845: E external/local_xla/xla/stream_executor/cuda/cuda_blas.cc:1452] Unable to register cuBLAS factory: Attempting to register factory for plugin cuBLAS when one has already been registered\n",
            "2024-10-15 19:30:20.496237: I tensorflow/core/platform/cpu_feature_guard.cc:210] This TensorFlow binary is optimized to use available CPU instructions in performance-critical operations.\n",
            "To enable the following instructions: AVX2 FMA, in other operations, rebuild TensorFlow with the appropriate compiler flags.\n",
            "2024-10-15 19:30:21.493224: W tensorflow/compiler/tf2tensorrt/utils/py_utils.cc:38] TF-TRT Warning: Could not find TensorRT\n"
          ]
        }
      ],
      "source": [
        "import random\n",
        "import tensorflow as tf\n",
        "import numpy as np\n",
        "import pandas as pd\n",
        "import six\n",
        "\n",
        "from sklearn.model_selection import train_test_split\n",
        "\n",
        "from skimage.transform import resize\n",
        "from scipy.ndimage import morphology as mp\n",
        "from scipy.ndimage import rotate\n",
        "from scipy.ndimage import gaussian_filter\n",
        "\n",
        "from PIL import ImageFile\n",
        "ImageFile.LOAD_TRUNCATED_IMAGES = True\n",
        "\n",
        "from tensorflow.keras.preprocessing.image import ImageDataGenerator\n",
        "from tensorflow.keras.utils import load_img\n",
        "from tensorflow.python.keras.utils.data_utils import get_file\n",
        "from tensorflow.keras.utils import get_source_inputs\n",
        "from tensorflow.keras.layers import InputSpec\n",
        "from tensorflow.keras.layers import Conv2D, UpSampling2D, Conv2DTranspose, MaxPooling2D, Concatenate\n",
        "from tensorflow.keras.layers import Activation, SpatialDropout2D\n",
        "from tensorflow.keras.layers import Input, Dropout, BatchNormalization, Flatten, AveragePooling2D\n",
        "from tensorflow.keras.preprocessing.image import img_to_array\n",
        "\n",
        "from tqdm import tqdm_notebook\n",
        "\n",
        "from os import listdir\n",
        "\n",
        "from keras import Model\n",
        "from keras.utils import plot_model\n",
        "from keras.saving import register_keras_serializable\n",
        "from keras.utils import Sequence\n",
        "from keras.losses import binary_crossentropy, BinaryCrossentropy\n",
        "from keras.callbacks import EarlyStopping, ModelCheckpoint, ReduceLROnPlateau\n",
        "from keras.optimizers import Adam\n",
        "from keras.models import load_model\n",
        "from keras import initializers\n",
        "from keras import regularizers\n",
        "from keras import constraints\n",
        "from tensorflow.keras import backend as K\n",
        "from keras.regularizers import l2\n",
        "from keras.applications import DenseNet121\n",
        "\n",
        "from sklearn.metrics import roc_curve, auc\n",
        "import matplotlib.pyplot as plt\n",
        "\n",
        "\n",
        "import matplotlib.pyplot as plt\n",
        "plt.style.use('seaborn-v0_8-white')\n",
        "import seaborn as sns\n",
        "sns.set_style(\"white\")"
      ]
    },
    {
      "cell_type": "code",
      "execution_count": 3,
      "metadata": {
        "id": "v-oIwlqtw3LF"
      },
      "outputs": [],
      "source": [
        "img_size_ori = 101\n",
        "img_size_target = (224, 840)\n",
        "img_w_target = 224\n",
        "img_h_target = 224"
      ]
    },
    {
      "cell_type": "markdown",
      "metadata": {
        "id": "Vs9EpoRUwwmW"
      },
      "source": [
        "Classe geradora de dados. Evita com que todas as imagens sejam carregas em memória durante o tempo de execução. Cada batch irá ser carregado em demanda.\n",
        "\n",
        "Referência para o padrão: https://stanford.edu/~shervine/blog/keras-how-to-generate-data-on-the-fly"
      ]
    },
    {
      "cell_type": "markdown",
      "metadata": {
        "id": "S5iEha4MtY34"
      },
      "source": [
        "São aplicados os filtros de erosão binária e dilatação binária nas máscaras. A erosão binária irá reduzir o tamanha da máscara, removendo possíveis ruídos na segmentação. O processo seguinte, de dilatação, irá aumentar novamente a máscara reduzida, tornando-a mais prevalente na imagem de verdade fundamental\n",
        "\n",
        "Fonte: https://www.cs.auckland.ac.nz/courses/compsci773s1c/lectures/ImageProcessing-html/topic4.htm"
      ]
    },
    {
      "cell_type": "code",
      "execution_count": 4,
      "metadata": {
        "id": "_SOzcCPvw4vh"
      },
      "outputs": [],
      "source": [
        "class DataGenerator(Sequence):\n",
        "\n",
        "    def __init__(self,\n",
        "                 images,\n",
        "                 labels,\n",
        "                 batch_size=16,\n",
        "                 dim=(224,224,3),\n",
        "                 shuffle=True):\n",
        "        'Initialization'\n",
        "        self.dim = dim\n",
        "        self.images = images\n",
        "        self.labels = labels\n",
        "        self.batch_size = batch_size\n",
        "        self.shuffle = shuffle\n",
        "        self.on_epoch_end()\n",
        "\n",
        "    def __len__(self):\n",
        "        return int(np.floor(len(self.images) / self.batch_size))\n",
        "\n",
        "    def __getitem__(self, index):\n",
        "        indexes = self.indexes[index*self.batch_size:(index+1)*self.batch_size]\n",
        "\n",
        "        list_IDs_temp = [k for k in indexes]\n",
        "\n",
        "        X, y = self.__data_generation(list_IDs_temp)\n",
        "\n",
        "        return X, y\n",
        "\n",
        "    def on_epoch_end(self):\n",
        "        self.indexes = np.arange(len(self.images))\n",
        "        if self.shuffle == True:\n",
        "            np.random.shuffle(self.indexes)\n",
        "\n",
        "    def __data_generation(self, list_IDs_temp):\n",
        "        'Generates data containing batch_size samples'\n",
        "        batch_imgs = list()\n",
        "        batch_labels = list()\n",
        "\n",
        "        for i in list_IDs_temp:\n",
        "\n",
        "            angle = random.choice([1, 2, 3, 4])\n",
        "            hflip = random.choice([True, False])\n",
        "            vflip = random.choice([True, False])\n",
        "\n",
        "            img = load_img(self.images[i], target_size=self.dim)\n",
        "            img = img_to_array(img)/255\n",
        "            # img = gaussian_filter(img, sigma=1)\n",
        "            img = np.rot90(img, k=angle)\n",
        "\n",
        "            label = load_img(self.labels[i], target_size=self.dim, color_mode = \"grayscale\")\n",
        "            label = img_to_array(label)[:,:,0]\n",
        "            label = label != 0\n",
        "            label = mp.binary_erosion(label)\n",
        "            label = mp.binary_dilation(label)\n",
        "            label = np.expand_dims((label)*1 , axis=2)\n",
        "            label = np.rot90(label, k=angle)\n",
        "\n",
        "            if hflip:\n",
        "                img = np.flip(img, axis=1)\n",
        "                label = np.flip(label, axis=1)\n",
        "\n",
        "            if vflip:\n",
        "                img = np.flip(img, axis=0)\n",
        "                label = np.flip(label, axis=0)\n",
        "\n",
        "            batch_imgs.append(img)\n",
        "            batch_labels.append(label)\n",
        "\n",
        "        return np.array(batch_imgs, dtype = np.float32), np.array(batch_labels, dtype = np.float32)"
      ]
    },
    {
      "cell_type": "code",
      "execution_count": 5,
      "metadata": {
        "id": "C1SGCxd2WTJI"
      },
      "outputs": [],
      "source": [
        "def display_sample(data_tuple, img_shape):\n",
        "    X,y = data_tuple\n",
        "    plt.figure(figsize=(8,8))\n",
        "    plt.subplot(121)\n",
        "    plt.imshow(X[0])\n",
        "    plt.subplot(122)\n",
        "    plt.imshow(np.reshape(y[0], img_shape))"
      ]
    },
    {
      "cell_type": "markdown",
      "metadata": {
        "id": "ywyBiuIbxfcg"
      },
      "source": [
        "### Construindo o Modelo U-Net"
      ]
    },
    {
      "cell_type": "code",
      "execution_count": 6,
      "metadata": {
        "id": "K0p8BbQeyU56"
      },
      "outputs": [],
      "source": [
        "def __unet_conv_bn_relu(**conv_params):\n",
        "    filters = conv_params[\"filters\"]\n",
        "    kernel_size = conv_params[\"kernel_size\"]\n",
        "    strides = conv_params.setdefault(\"strides\", (1, 1))\n",
        "    kernel_initializer = conv_params.setdefault(\"kernel_initializer\", \"he_normal\")\n",
        "    padding = conv_params.setdefault(\"padding\", \"same\")\n",
        "\n",
        "    def f(input):\n",
        "        conv = Conv2D(filters=filters, kernel_size=kernel_size,\n",
        "                      strides=strides, padding=padding,\n",
        "                      kernel_initializer=kernel_initializer)(input)\n",
        "\n",
        "        norm = BatchNormalization()(conv)\n",
        "        return Activation(\"relu\")(norm)\n",
        "\n",
        "    return f\n",
        "\n",
        "def Upsample2D_block(filters, kernel_size=(3,3), upsample_rate=(2,2), skip=None):\n",
        "\n",
        "    def layer(input_tensor):\n",
        "\n",
        "        x = UpSampling2D(size=upsample_rate)(input_tensor)\n",
        "\n",
        "        if skip is not None:\n",
        "            x = Concatenate()([x, skip])\n",
        "\n",
        "        x = __unet_conv_bn_relu(filters=filters, kernel_size=kernel_size)(x)\n",
        "\n",
        "        x = __unet_conv_bn_relu(filters=filters, kernel_size=kernel_size)(x)\n",
        "\n",
        "        return x\n",
        "    return layer\n"
      ]
    },
    {
      "cell_type": "code",
      "execution_count": 7,
      "metadata": {
        "id": "BDbmg6DKWbEx"
      },
      "outputs": [],
      "source": [
        "def UnetDenseNet(input_shape):\n",
        "    inputs = Input(input_shape, name = 'input')\n",
        "    densenet = DenseNet121(include_top = False, weights = 'imagenet', pooling = 'max',\n",
        "                        input_tensor = inputs, input_shape = input_shape)\n",
        "\n",
        "    skip1 = densenet.get_layer(\"input\").output\n",
        "    skip2 = densenet.get_layer(\"conv1_conv\").output\n",
        "    skip3 = densenet.get_layer(\"pool2_relu\").output\n",
        "    skip4 = densenet.get_layer(\"pool3_relu\").output\n",
        "\n",
        "    center = densenet.get_layer(\"pool4_relu\").output\n",
        "\n",
        "    d1 = Upsample2D_block(filters=512, skip=skip4)(center)\n",
        "    d2 = Upsample2D_block(filters=256, skip=skip3)(d1)\n",
        "    d3 = Upsample2D_block(filters=128, skip=skip2)(d2)\n",
        "    d4 = Upsample2D_block(filters=54,  skip=skip1)(d3)\n",
        "\n",
        "    x = Conv2D(1, (3), padding=\"same\", name='final_conv')(d4)\n",
        "    x = Activation('sigmoid', name='sigmoid')(x)\n",
        "\n",
        "    model = Model(inputs, x, name=\"DenseNet_U-Net\")\n",
        "    return model"
      ]
    },
    {
      "cell_type": "code",
      "execution_count": 8,
      "metadata": {
        "id": "2geux1So7MFr"
      },
      "outputs": [],
      "source": [
        "import json\n",
        "import os\n",
        "from sklearn.model_selection import KFold\n",
        "\n",
        "with open(json_path, 'r') as file:\n",
        "  dataset = json.load(file)\n",
        "\n",
        "train_img_files = []\n",
        "train_mask_files = []\n",
        "\n",
        "for file in dataset['data']['train']:\n",
        "  train_img_files.append(os.path.join(dataset[\"imageOutputPath\"], file['image']))\n",
        "  train_mask_files.append(os.path.join(dataset[\"labelOutputPath\"], file['label']))\n",
        "\n",
        "train_df_ = pd.DataFrame(data={\"filename\": train_img_files, 'mask' : train_mask_files})\n",
        "train_df = train_df_.sample(frac=1).reset_index(drop=True)\n",
        "\n",
        "test_img_files = []\n",
        "test_mask_files = []\n",
        "\n",
        "for file in dataset['data']['test']:\n",
        "  test_img_files.append(os.path.join(dataset[\"imageOutputPath\"], file['image']))\n",
        "  test_mask_files.append(os.path.join(dataset[\"labelOutputPath\"], file['label']))\n",
        "\n",
        "test_df_ = pd.DataFrame(data={\"filename\": test_img_files, 'mask' : test_mask_files})\n",
        "test_df = test_df_.sample(frac=1).reset_index(drop=True)"
      ]
    },
    {
      "cell_type": "code",
      "execution_count": 9,
      "metadata": {
        "colab": {
          "base_uri": "https://localhost:8080/"
        },
        "id": "YMoJ8WRN3RwL",
        "outputId": "988aac27-1473-4493-ffc4-57e4a0733c13"
      },
      "outputs": [
        {
          "name": "stdout",
          "output_type": "stream",
          "text": [
            "1968\n",
            "761\n"
          ]
        }
      ],
      "source": [
        "print(train_df[\"filename\"].size)\n",
        "print(test_df[\"filename\"].size)"
      ]
    },
    {
      "cell_type": "code",
      "execution_count": 10,
      "metadata": {
        "id": "2FDIIcS6IaIk"
      },
      "outputs": [],
      "source": [
        "kf = KFold(n_splits = 5, shuffle=False)"
      ]
    },
    {
      "cell_type": "code",
      "execution_count": 11,
      "metadata": {
        "id": "yNeflV80e8EF"
      },
      "outputs": [],
      "source": [
        "alpha = 0.25\n",
        "gamma = 2\n",
        "\n",
        "@register_keras_serializable(package=\"unetDensenet\", name=\"generalized_dice_coefficient\")\n",
        "def generalized_dice_coefficient(y_true, y_pred):\n",
        "    smooth = 1.\n",
        "    y_true_f = K.flatten(y_true)\n",
        "    y_pred_f = K.flatten(y_pred)\n",
        "    intersection = K.sum(y_true_f * y_pred_f)\n",
        "    score = (2. * intersection + smooth) / (\n",
        "            K.sum(y_true_f) + K.sum(y_pred_f) + smooth)\n",
        "    return score\n",
        "\n",
        "@register_keras_serializable(package=\"unetDensenet\", name=\"dice_loss\")\n",
        "def dice_loss(y_true, y_pred):\n",
        "    loss = 1 - generalized_dice_coefficient(y_true, y_pred)\n",
        "    return loss\n",
        "\n",
        "@register_keras_serializable(package=\"unetDensenet\", name=\"bce_dice_loss\")\n",
        "def bce_dice_loss(y_true, y_pred):\n",
        "    return (binary_crossentropy(y_true, y_pred) + dice_loss(y_true, y_pred)) / 2.0"
      ]
    },
    {
      "cell_type": "code",
      "execution_count": 12,
      "metadata": {
        "colab": {
          "base_uri": "https://localhost:8080/"
        },
        "id": "-U_l3J7KqQlN",
        "outputId": "34e668c0-f9f8-4363-93e1-572c3d6e63f7"
      },
      "outputs": [
        {
          "name": "stdout",
          "output_type": "stream",
          "text": [
            "------------------------------------------------------------------------\n",
            "Train DF size 155 ...\n",
            "Train Generator size 155 ...\n",
            "Val DF size 77 ...\n",
            "Val Generator size 77 ...\n",
            "Steps per epoch 155 ...\n",
            "Validation steps 77 ...\n",
            "------------------------------------------------------------------------\n",
            "Train DF size 155 ...\n",
            "Train Generator size 155 ...\n",
            "Val DF size 77 ...\n",
            "Val Generator size 77 ...\n",
            "Steps per epoch 155 ...\n",
            "Validation steps 77 ...\n",
            "------------------------------------------------------------------------\n",
            "Train DF size 155 ...\n",
            "Train Generator size 155 ...\n",
            "Val DF size 77 ...\n",
            "Val Generator size 77 ...\n",
            "Steps per epoch 155 ...\n",
            "Validation steps 77 ...\n",
            "------------------------------------------------------------------------\n",
            "Train DF size 155 ...\n",
            "Train Generator size 155 ...\n",
            "Val DF size 77 ...\n",
            "Val Generator size 77 ...\n",
            "Steps per epoch 155 ...\n",
            "Validation steps 77 ...\n",
            "------------------------------------------------------------------------\n",
            "Train DF size 155 ...\n",
            "Train Generator size 155 ...\n",
            "Val DF size 77 ...\n",
            "Val Generator size 77 ...\n",
            "Steps per epoch 155 ...\n",
            "Validation steps 77 ...\n"
          ]
        }
      ],
      "source": [
        "batch_size = 16\n",
        "val_batch_size = 8\n",
        "\n",
        "positive_image_indices = train_df[train_df['mask'].apply(lambda x: np.any(load_img(x, color_mode=\"grayscale\")))].index\n",
        "positive_df = train_df.loc[positive_image_indices].sample(n=len(train_df) - 2 * len(positive_image_indices), replace=True)\n",
        "\n",
        "oversamplet_train_df = pd.concat([train_df, positive_df], axis=0)\n",
        "\n",
        "for k, (train_index, val_index) in enumerate(kf.split(oversamplet_train_df)):\n",
        "\n",
        "    train_data_frame = oversamplet_train_df.iloc[train_index]\n",
        "    val_data_frame = oversamplet_train_df.iloc[val_index]\n",
        "\n",
        "    train_generator = DataGenerator(\n",
        "        train_data_frame['filename'].values,\n",
        "        train_data_frame['mask'].values,\n",
        "        batch_size=batch_size,\n",
        "        dim=(img_w_target,img_h_target, 3),\n",
        "        shuffle=True)\n",
        "\n",
        "    steps_per_epoch = len(train_data_frame[\"filename\"]) // batch_size\n",
        "\n",
        "    val_generator = DataGenerator(\n",
        "        val_data_frame['filename'].values,\n",
        "        val_data_frame['mask'].values,\n",
        "        batch_size=val_batch_size,\n",
        "        dim=(img_w_target,img_h_target, 3),\n",
        "        shuffle=True)\n",
        "\n",
        "    val_steps = len(val_data_frame[\"filename\"]) // val_batch_size\n",
        "\n",
        "    print('------------------------------------------------------------------------')\n",
        "    print(f'Train DF size {len(train_data_frame)//batch_size} ...')\n",
        "    print(f'Train Generator size {train_generator.__len__()} ...')\n",
        "    print(f'Val DF size {len(val_data_frame)//val_batch_size} ...')\n",
        "    print(f'Val Generator size {val_generator.__len__()} ...')\n",
        "    print(f'Steps per epoch {steps_per_epoch} ...')\n",
        "    print(f'Validation steps {val_steps} ...')"
      ]
    },
    {
      "cell_type": "code",
      "execution_count": 13,
      "metadata": {
        "colab": {
          "base_uri": "https://localhost:8080/",
          "height": 435
        },
        "id": "VmY-DPf6xJni",
        "outputId": "d479a821-efd5-40c7-f5fd-830b4755e55e"
      },
      "outputs": [
        {
          "name": "stderr",
          "output_type": "stream",
          "text": [
            "/tmp/ipykernel_65278/153977351.py:53: DeprecationWarning: Please import `binary_erosion` from the `scipy.ndimage` namespace; the `scipy.ndimage.morphology` namespace is deprecated and will be removed in SciPy 2.0.0.\n",
            "  label = mp.binary_erosion(label)\n",
            "/tmp/ipykernel_65278/153977351.py:54: DeprecationWarning: Please import `binary_dilation` from the `scipy.ndimage` namespace; the `scipy.ndimage.morphology` namespace is deprecated and will be removed in SciPy 2.0.0.\n",
            "  label = mp.binary_dilation(label)\n"
          ]
        },
        {
          "data": {
            "image/png": "[encoded data removed]",
            "text/plain": [
              "<Figure size 800x800 with 2 Axes>"
            ]
          },
          "metadata": {},
          "output_type": "display_data"
        }
      ],
      "source": [
        "display_sample(train_generator.__getitem__(1), (224,224))\n",
        "# display_sample(val_generator.__getitem__(24), (224,224))"
      ]
    },
    {
      "cell_type": "markdown",
      "metadata": {
        "id": "NAQTNvhZiWuE"
      },
      "source": [
        "Method for training model"
      ]
    },
    {
      "cell_type": "code",
      "execution_count": 14,
      "metadata": {},
      "outputs": [
        {
          "name": "stdout",
          "output_type": "stream",
          "text": [
            "Num GPUs Available:  1\n"
          ]
        },
        {
          "name": "stderr",
          "output_type": "stream",
          "text": [
            "WARNING: All log messages before absl::InitializeLog() is called are written to STDERR\n",
            "I0000 00:00:1729031423.707388   65278 cuda_executor.cc:1015] successful NUMA node read from SysFS had negative value (-1), but there must be at least one NUMA node, so returning NUMA node zero. See more at https://github.com/torvalds/linux/blob/v6.0/Documentation/ABI/testing/sysfs-bus-pci#L344-L355\n",
            "I0000 00:00:1729031423.978977   65278 cuda_executor.cc:1015] successful NUMA node read from SysFS had negative value (-1), but there must be at least one NUMA node, so returning NUMA node zero. See more at https://github.com/torvalds/linux/blob/v6.0/Documentation/ABI/testing/sysfs-bus-pci#L344-L355\n",
            "I0000 00:00:1729031423.979190   65278 cuda_executor.cc:1015] successful NUMA node read from SysFS had negative value (-1), but there must be at least one NUMA node, so returning NUMA node zero. See more at https://github.com/torvalds/linux/blob/v6.0/Documentation/ABI/testing/sysfs-bus-pci#L344-L355\n"
          ]
        }
      ],
      "source": [
        "print(\"Num GPUs Available: \", len(tf.config.list_physical_devices('GPU')))"
      ]
    },
    {
      "cell_type": "code",
      "execution_count": 15,
      "metadata": {
        "colab": {
          "base_uri": "https://localhost:8080/"
        },
        "id": "_dO2MtEfxhXy",
        "outputId": "d362b981-66a4-4339-bac8-7846ba3db9cb"
      },
      "outputs": [
        {
          "name": "stderr",
          "output_type": "stream",
          "text": [
            "I0000 00:00:1729031426.759068   65278 cuda_executor.cc:1015] successful NUMA node read from SysFS had negative value (-1), but there must be at least one NUMA node, so returning NUMA node zero. See more at https://github.com/torvalds/linux/blob/v6.0/Documentation/ABI/testing/sysfs-bus-pci#L344-L355\n",
            "I0000 00:00:1729031426.759323   65278 cuda_executor.cc:1015] successful NUMA node read from SysFS had negative value (-1), but there must be at least one NUMA node, so returning NUMA node zero. See more at https://github.com/torvalds/linux/blob/v6.0/Documentation/ABI/testing/sysfs-bus-pci#L344-L355\n",
            "I0000 00:00:1729031426.759576   65278 cuda_executor.cc:1015] successful NUMA node read from SysFS had negative value (-1), but there must be at least one NUMA node, so returning NUMA node zero. See more at https://github.com/torvalds/linux/blob/v6.0/Documentation/ABI/testing/sysfs-bus-pci#L344-L355\n",
            "I0000 00:00:1729031426.847742   65278 cuda_executor.cc:1015] successful NUMA node read from SysFS had negative value (-1), but there must be at least one NUMA node, so returning NUMA node zero. See more at https://github.com/torvalds/linux/blob/v6.0/Documentation/ABI/testing/sysfs-bus-pci#L344-L355\n",
            "I0000 00:00:1729031426.847915   65278 cuda_executor.cc:1015] successful NUMA node read from SysFS had negative value (-1), but there must be at least one NUMA node, so returning NUMA node zero. See more at https://github.com/torvalds/linux/blob/v6.0/Documentation/ABI/testing/sysfs-bus-pci#L344-L355\n",
            "I0000 00:00:1729031426.848057   65278 cuda_executor.cc:1015] successful NUMA node read from SysFS had negative value (-1), but there must be at least one NUMA node, so returning NUMA node zero. See more at https://github.com/torvalds/linux/blob/v6.0/Documentation/ABI/testing/sysfs-bus-pci#L344-L355\n",
            "2024-10-15 19:30:26.848199: I tensorflow/core/common_runtime/gpu/gpu_device.cc:2021] Created device /job:localhost/replica:0/task:0/device:GPU:0 with 9884 MB memory:  -> device: 0, name: NVIDIA GeForce RTX 4070, pci bus id: 0000:2b:00.0, compute capability: 8.9\n"
          ]
        },
        {
          "name": "stdout",
          "output_type": "stream",
          "text": [
            "------------------------------------------------------------------------\n",
            "Steps per epoch 155 ...\n",
            "------------------------------------------------------------------------\n",
            "Training for fold 1 ...\n",
            "Epoch 1/100\n"
          ]
        },
        {
          "name": "stderr",
          "output_type": "stream",
          "text": [
            "/home/marcello/Repositories/DICOM-Project-Pytorch/env/lib/python3.11/site-packages/keras/src/trainers/data_adapters/py_dataset_adapter.py:121: UserWarning: Your `PyDataset` class should call `super().__init__(**kwargs)` in its constructor. `**kwargs` can include `workers`, `use_multiprocessing`, `max_queue_size`. Do not pass these arguments to `fit()`, as they will be ignored.\n",
            "  self._warn_if_super_not_called()\n",
            "/tmp/ipykernel_65278/153977351.py:53: DeprecationWarning: Please import `binary_erosion` from the `scipy.ndimage` namespace; the `scipy.ndimage.morphology` namespace is deprecated and will be removed in SciPy 2.0.0.\n",
            "  label = mp.binary_erosion(label)\n",
            "/tmp/ipykernel_65278/153977351.py:54: DeprecationWarning: Please import `binary_dilation` from the `scipy.ndimage` namespace; the `scipy.ndimage.morphology` namespace is deprecated and will be removed in SciPy 2.0.0.\n",
            "  label = mp.binary_dilation(label)\n",
            "WARNING: All log messages before absl::InitializeLog() is called are written to STDERR\n",
            "I0000 00:00:1729031451.080256   65364 service.cc:146] XLA service 0x7f4170003520 initialized for platform CUDA (this does not guarantee that XLA will be used). Devices:\n",
            "I0000 00:00:1729031451.080273   65364 service.cc:154]   StreamExecutor device (0): NVIDIA GeForce RTX 4070, Compute Capability 8.9\n",
            "2024-10-15 19:30:51.944250: I tensorflow/compiler/mlir/tensorflow/utils/dump_mlir_util.cc:268] disabling MLIR crash reproducer, set env var `MLIR_CRASH_REPRODUCER_DIRECTORY` to enable.\n",
            "2024-10-15 19:30:55.102642: I external/local_xla/xla/stream_executor/cuda/cuda_dnn.cc:531] Loaded cuDNN version 8907\n",
            "2024-10-15 19:31:53.392690: I external/local_xla/xla/stream_executor/cuda/cuda_asm_compiler.cc:393] ptxas warning : Registers are spilled to local memory in function 'input_compare_reduce_fusion_48', 4 bytes spill stores, 4 bytes spill loads\n",
            "ptxas warning : Registers are spilled to local memory in function 'input_compare_reduce_fusion_46', 8 bytes spill stores, 8 bytes spill loads\n",
            "ptxas warning : Registers are spilled to local memory in function 'input_add_reduce_fusion_9', 4 bytes spill stores, 64 bytes spill loads\n",
            "\n",
            "I0000 00:00:1729031513.650958   65364 device_compiler.h:188] Compiled cluster using XLA!  This line is logged at most once for the lifetime of the process.\n"
          ]
        },
        {
          "name": "stdout",
          "output_type": "stream",
          "text": [
            "\u001b[1m155/155\u001b[0m \u001b[32m━━━━━━━━━━━━━━━━━━━━\u001b[0m\u001b[37m\u001b[0m \u001b[1m0s\u001b[0m 197ms/step - accuracy: 0.9715 - loss: 0.5079\n",
            "Epoch 1: val_loss improved from -inf to 6.40691, saving model to ./data/checkpoints/fold_1_top.model.weights.h5\n",
            "\u001b[1m155/155\u001b[0m \u001b[32m━━━━━━━━━━━━━━━━━━━━\u001b[0m\u001b[37m\u001b[0m \u001b[1m128s\u001b[0m 276ms/step - accuracy: 0.9716 - loss: 0.5073 - val_accuracy: 0.6459 - val_loss: 6.4069\n",
            "Epoch 2/100\n",
            "\u001b[1m155/155\u001b[0m \u001b[32m━━━━━━━━━━━━━━━━━━━━\u001b[0m\u001b[37m\u001b[0m \u001b[1m0s\u001b[0m 201ms/step - accuracy: 0.9986 - loss: 0.2829\n",
            "Epoch 2: val_loss did not improve from 6.40691\n",
            "\u001b[1m155/155\u001b[0m \u001b[32m━━━━━━━━━━━━━━━━━━━━\u001b[0m\u001b[37m\u001b[0m \u001b[1m33s\u001b[0m 215ms/step - accuracy: 0.9986 - loss: 0.2828 - val_accuracy: 0.5769 - val_loss: 1.9999\n",
            "Epoch 3/100\n",
            "\u001b[1m 94/155\u001b[0m \u001b[32m━━━━━━━━━━━━\u001b[0m\u001b[37m━━━━━━━━\u001b[0m \u001b[1m12s\u001b[0m 203ms/step - accuracy: 0.9989 - loss: 0.2490"
          ]
        },
        {
          "ename": "KeyboardInterrupt",
          "evalue": "",
          "output_type": "error",
          "traceback": [
            "\u001b[0;31m---------------------------------------------------------------------------\u001b[0m",
            "\u001b[0;31mKeyboardInterrupt\u001b[0m                         Traceback (most recent call last)",
            "Cell \u001b[0;32mIn[15], line 66\u001b[0m\n\u001b[1;32m     63\u001b[0m \u001b[38;5;28mprint\u001b[39m(\u001b[38;5;124m'\u001b[39m\u001b[38;5;124m------------------------------------------------------------------------\u001b[39m\u001b[38;5;124m'\u001b[39m)\n\u001b[1;32m     64\u001b[0m \u001b[38;5;28mprint\u001b[39m(\u001b[38;5;124mf\u001b[39m\u001b[38;5;124m'\u001b[39m\u001b[38;5;124mTraining for fold \u001b[39m\u001b[38;5;132;01m{\u001b[39;00mfold_no\u001b[38;5;132;01m}\u001b[39;00m\u001b[38;5;124m ...\u001b[39m\u001b[38;5;124m'\u001b[39m)\n\u001b[0;32m---> 66\u001b[0m model_history \u001b[38;5;241m=\u001b[39m  \u001b[43mmodel\u001b[49m\u001b[38;5;241;43m.\u001b[39;49m\u001b[43mfit\u001b[49m\u001b[43m(\u001b[49m\n\u001b[1;32m     67\u001b[0m \u001b[43m    \u001b[49m\u001b[43mtrain_generator\u001b[49m\u001b[43m,\u001b[49m\n\u001b[1;32m     68\u001b[0m \u001b[43m    \u001b[49m\u001b[43mepochs\u001b[49m\u001b[38;5;241;43m=\u001b[39;49m\u001b[43mepochs\u001b[49m\u001b[43m,\u001b[49m\n\u001b[1;32m     69\u001b[0m \u001b[43m    \u001b[49m\u001b[43mvalidation_data\u001b[49m\u001b[38;5;241;43m=\u001b[39;49m\u001b[43mval_generator\u001b[49m\u001b[43m,\u001b[49m\n\u001b[1;32m     70\u001b[0m \u001b[43m    \u001b[49m\u001b[43mcallbacks\u001b[49m\u001b[38;5;241;43m=\u001b[39;49m\u001b[43mcallbacks\u001b[49m\u001b[43m)\u001b[49m\n\u001b[1;32m     72\u001b[0m model_results \u001b[38;5;241m=\u001b[39m model\u001b[38;5;241m.\u001b[39mevaluate(val_generator)\n\u001b[1;32m     74\u001b[0m model_results \u001b[38;5;241m=\u001b[39m \u001b[38;5;28mdict\u001b[39m(\u001b[38;5;28mzip\u001b[39m(model\u001b[38;5;241m.\u001b[39mmetrics_names,model_results))\n",
            "File \u001b[0;32m~/Repositories/DICOM-Project-Pytorch/env/lib/python3.11/site-packages/keras/src/utils/traceback_utils.py:117\u001b[0m, in \u001b[0;36mfilter_traceback.<locals>.error_handler\u001b[0;34m(*args, **kwargs)\u001b[0m\n\u001b[1;32m    115\u001b[0m filtered_tb \u001b[38;5;241m=\u001b[39m \u001b[38;5;28;01mNone\u001b[39;00m\n\u001b[1;32m    116\u001b[0m \u001b[38;5;28;01mtry\u001b[39;00m:\n\u001b[0;32m--> 117\u001b[0m     \u001b[38;5;28;01mreturn\u001b[39;00m \u001b[43mfn\u001b[49m\u001b[43m(\u001b[49m\u001b[38;5;241;43m*\u001b[39;49m\u001b[43margs\u001b[49m\u001b[43m,\u001b[49m\u001b[43m \u001b[49m\u001b[38;5;241;43m*\u001b[39;49m\u001b[38;5;241;43m*\u001b[39;49m\u001b[43mkwargs\u001b[49m\u001b[43m)\u001b[49m\n\u001b[1;32m    118\u001b[0m \u001b[38;5;28;01mexcept\u001b[39;00m \u001b[38;5;167;01mException\u001b[39;00m \u001b[38;5;28;01mas\u001b[39;00m e:\n\u001b[1;32m    119\u001b[0m     filtered_tb \u001b[38;5;241m=\u001b[39m _process_traceback_frames(e\u001b[38;5;241m.\u001b[39m__traceback__)\n",
            "File \u001b[0;32m~/Repositories/DICOM-Project-Pytorch/env/lib/python3.11/site-packages/keras/src/backend/tensorflow/trainer.py:320\u001b[0m, in \u001b[0;36mTensorFlowTrainer.fit\u001b[0;34m(self, x, y, batch_size, epochs, verbose, callbacks, validation_split, validation_data, shuffle, class_weight, sample_weight, initial_epoch, steps_per_epoch, validation_steps, validation_batch_size, validation_freq)\u001b[0m\n\u001b[1;32m    318\u001b[0m \u001b[38;5;28;01mfor\u001b[39;00m step, iterator \u001b[38;5;129;01min\u001b[39;00m epoch_iterator\u001b[38;5;241m.\u001b[39menumerate_epoch():\n\u001b[1;32m    319\u001b[0m     callbacks\u001b[38;5;241m.\u001b[39mon_train_batch_begin(step)\n\u001b[0;32m--> 320\u001b[0m     logs \u001b[38;5;241m=\u001b[39m \u001b[38;5;28;43mself\u001b[39;49m\u001b[38;5;241;43m.\u001b[39;49m\u001b[43mtrain_function\u001b[49m\u001b[43m(\u001b[49m\u001b[43miterator\u001b[49m\u001b[43m)\u001b[49m\n\u001b[1;32m    321\u001b[0m     callbacks\u001b[38;5;241m.\u001b[39mon_train_batch_end(step, logs)\n\u001b[1;32m    322\u001b[0m     \u001b[38;5;28;01mif\u001b[39;00m \u001b[38;5;28mself\u001b[39m\u001b[38;5;241m.\u001b[39mstop_training:\n",
            "File \u001b[0;32m~/Repositories/DICOM-Project-Pytorch/env/lib/python3.11/site-packages/tensorflow/python/util/traceback_utils.py:150\u001b[0m, in \u001b[0;36mfilter_traceback.<locals>.error_handler\u001b[0;34m(*args, **kwargs)\u001b[0m\n\u001b[1;32m    148\u001b[0m filtered_tb \u001b[38;5;241m=\u001b[39m \u001b[38;5;28;01mNone\u001b[39;00m\n\u001b[1;32m    149\u001b[0m \u001b[38;5;28;01mtry\u001b[39;00m:\n\u001b[0;32m--> 150\u001b[0m   \u001b[38;5;28;01mreturn\u001b[39;00m \u001b[43mfn\u001b[49m\u001b[43m(\u001b[49m\u001b[38;5;241;43m*\u001b[39;49m\u001b[43margs\u001b[49m\u001b[43m,\u001b[49m\u001b[43m \u001b[49m\u001b[38;5;241;43m*\u001b[39;49m\u001b[38;5;241;43m*\u001b[39;49m\u001b[43mkwargs\u001b[49m\u001b[43m)\u001b[49m\n\u001b[1;32m    151\u001b[0m \u001b[38;5;28;01mexcept\u001b[39;00m \u001b[38;5;167;01mException\u001b[39;00m \u001b[38;5;28;01mas\u001b[39;00m e:\n\u001b[1;32m    152\u001b[0m   filtered_tb \u001b[38;5;241m=\u001b[39m _process_traceback_frames(e\u001b[38;5;241m.\u001b[39m__traceback__)\n",
            "File \u001b[0;32m~/Repositories/DICOM-Project-Pytorch/env/lib/python3.11/site-packages/tensorflow/python/eager/polymorphic_function/polymorphic_function.py:833\u001b[0m, in \u001b[0;36mFunction.__call__\u001b[0;34m(self, *args, **kwds)\u001b[0m\n\u001b[1;32m    830\u001b[0m compiler \u001b[38;5;241m=\u001b[39m \u001b[38;5;124m\"\u001b[39m\u001b[38;5;124mxla\u001b[39m\u001b[38;5;124m\"\u001b[39m \u001b[38;5;28;01mif\u001b[39;00m \u001b[38;5;28mself\u001b[39m\u001b[38;5;241m.\u001b[39m_jit_compile \u001b[38;5;28;01melse\u001b[39;00m \u001b[38;5;124m\"\u001b[39m\u001b[38;5;124mnonXla\u001b[39m\u001b[38;5;124m\"\u001b[39m\n\u001b[1;32m    832\u001b[0m \u001b[38;5;28;01mwith\u001b[39;00m OptionalXlaContext(\u001b[38;5;28mself\u001b[39m\u001b[38;5;241m.\u001b[39m_jit_compile):\n\u001b[0;32m--> 833\u001b[0m   result \u001b[38;5;241m=\u001b[39m \u001b[38;5;28;43mself\u001b[39;49m\u001b[38;5;241;43m.\u001b[39;49m\u001b[43m_call\u001b[49m\u001b[43m(\u001b[49m\u001b[38;5;241;43m*\u001b[39;49m\u001b[43margs\u001b[49m\u001b[43m,\u001b[49m\u001b[43m \u001b[49m\u001b[38;5;241;43m*\u001b[39;49m\u001b[38;5;241;43m*\u001b[39;49m\u001b[43mkwds\u001b[49m\u001b[43m)\u001b[49m\n\u001b[1;32m    835\u001b[0m new_tracing_count \u001b[38;5;241m=\u001b[39m \u001b[38;5;28mself\u001b[39m\u001b[38;5;241m.\u001b[39mexperimental_get_tracing_count()\n\u001b[1;32m    836\u001b[0m without_tracing \u001b[38;5;241m=\u001b[39m (tracing_count \u001b[38;5;241m==\u001b[39m new_tracing_count)\n",
            "File \u001b[0;32m~/Repositories/DICOM-Project-Pytorch/env/lib/python3.11/site-packages/tensorflow/python/eager/polymorphic_function/polymorphic_function.py:878\u001b[0m, in \u001b[0;36mFunction._call\u001b[0;34m(self, *args, **kwds)\u001b[0m\n\u001b[1;32m    875\u001b[0m \u001b[38;5;28mself\u001b[39m\u001b[38;5;241m.\u001b[39m_lock\u001b[38;5;241m.\u001b[39mrelease()\n\u001b[1;32m    876\u001b[0m \u001b[38;5;66;03m# In this case we have not created variables on the first call. So we can\u001b[39;00m\n\u001b[1;32m    877\u001b[0m \u001b[38;5;66;03m# run the first trace but we should fail if variables are created.\u001b[39;00m\n\u001b[0;32m--> 878\u001b[0m results \u001b[38;5;241m=\u001b[39m \u001b[43mtracing_compilation\u001b[49m\u001b[38;5;241;43m.\u001b[39;49m\u001b[43mcall_function\u001b[49m\u001b[43m(\u001b[49m\n\u001b[1;32m    879\u001b[0m \u001b[43m    \u001b[49m\u001b[43margs\u001b[49m\u001b[43m,\u001b[49m\u001b[43m \u001b[49m\u001b[43mkwds\u001b[49m\u001b[43m,\u001b[49m\u001b[43m \u001b[49m\u001b[38;5;28;43mself\u001b[39;49m\u001b[38;5;241;43m.\u001b[39;49m\u001b[43m_variable_creation_config\u001b[49m\n\u001b[1;32m    880\u001b[0m \u001b[43m\u001b[49m\u001b[43m)\u001b[49m\n\u001b[1;32m    881\u001b[0m \u001b[38;5;28;01mif\u001b[39;00m \u001b[38;5;28mself\u001b[39m\u001b[38;5;241m.\u001b[39m_created_variables:\n\u001b[1;32m    882\u001b[0m   \u001b[38;5;28;01mraise\u001b[39;00m \u001b[38;5;167;01mValueError\u001b[39;00m(\u001b[38;5;124m\"\u001b[39m\u001b[38;5;124mCreating variables on a non-first call to a function\u001b[39m\u001b[38;5;124m\"\u001b[39m\n\u001b[1;32m    883\u001b[0m                    \u001b[38;5;124m\"\u001b[39m\u001b[38;5;124m decorated with tf.function.\u001b[39m\u001b[38;5;124m\"\u001b[39m)\n",
            "File \u001b[0;32m~/Repositories/DICOM-Project-Pytorch/env/lib/python3.11/site-packages/tensorflow/python/eager/polymorphic_function/tracing_compilation.py:139\u001b[0m, in \u001b[0;36mcall_function\u001b[0;34m(args, kwargs, tracing_options)\u001b[0m\n\u001b[1;32m    137\u001b[0m bound_args \u001b[38;5;241m=\u001b[39m function\u001b[38;5;241m.\u001b[39mfunction_type\u001b[38;5;241m.\u001b[39mbind(\u001b[38;5;241m*\u001b[39margs, \u001b[38;5;241m*\u001b[39m\u001b[38;5;241m*\u001b[39mkwargs)\n\u001b[1;32m    138\u001b[0m flat_inputs \u001b[38;5;241m=\u001b[39m function\u001b[38;5;241m.\u001b[39mfunction_type\u001b[38;5;241m.\u001b[39munpack_inputs(bound_args)\n\u001b[0;32m--> 139\u001b[0m \u001b[38;5;28;01mreturn\u001b[39;00m \u001b[43mfunction\u001b[49m\u001b[38;5;241;43m.\u001b[39;49m\u001b[43m_call_flat\u001b[49m\u001b[43m(\u001b[49m\u001b[43m  \u001b[49m\u001b[38;5;66;43;03m# pylint: disable=protected-access\u001b[39;49;00m\n\u001b[1;32m    140\u001b[0m \u001b[43m    \u001b[49m\u001b[43mflat_inputs\u001b[49m\u001b[43m,\u001b[49m\u001b[43m \u001b[49m\u001b[43mcaptured_inputs\u001b[49m\u001b[38;5;241;43m=\u001b[39;49m\u001b[43mfunction\u001b[49m\u001b[38;5;241;43m.\u001b[39;49m\u001b[43mcaptured_inputs\u001b[49m\n\u001b[1;32m    141\u001b[0m \u001b[43m\u001b[49m\u001b[43m)\u001b[49m\n",
            "File \u001b[0;32m~/Repositories/DICOM-Project-Pytorch/env/lib/python3.11/site-packages/tensorflow/python/eager/polymorphic_function/concrete_function.py:1322\u001b[0m, in \u001b[0;36mConcreteFunction._call_flat\u001b[0;34m(self, tensor_inputs, captured_inputs)\u001b[0m\n\u001b[1;32m   1318\u001b[0m possible_gradient_type \u001b[38;5;241m=\u001b[39m gradients_util\u001b[38;5;241m.\u001b[39mPossibleTapeGradientTypes(args)\n\u001b[1;32m   1319\u001b[0m \u001b[38;5;28;01mif\u001b[39;00m (possible_gradient_type \u001b[38;5;241m==\u001b[39m gradients_util\u001b[38;5;241m.\u001b[39mPOSSIBLE_GRADIENT_TYPES_NONE\n\u001b[1;32m   1320\u001b[0m     \u001b[38;5;129;01mand\u001b[39;00m executing_eagerly):\n\u001b[1;32m   1321\u001b[0m   \u001b[38;5;66;03m# No tape is watching; skip to running the function.\u001b[39;00m\n\u001b[0;32m-> 1322\u001b[0m   \u001b[38;5;28;01mreturn\u001b[39;00m \u001b[38;5;28;43mself\u001b[39;49m\u001b[38;5;241;43m.\u001b[39;49m\u001b[43m_inference_function\u001b[49m\u001b[38;5;241;43m.\u001b[39;49m\u001b[43mcall_preflattened\u001b[49m\u001b[43m(\u001b[49m\u001b[43margs\u001b[49m\u001b[43m)\u001b[49m\n\u001b[1;32m   1323\u001b[0m forward_backward \u001b[38;5;241m=\u001b[39m \u001b[38;5;28mself\u001b[39m\u001b[38;5;241m.\u001b[39m_select_forward_and_backward_functions(\n\u001b[1;32m   1324\u001b[0m     args,\n\u001b[1;32m   1325\u001b[0m     possible_gradient_type,\n\u001b[1;32m   1326\u001b[0m     executing_eagerly)\n\u001b[1;32m   1327\u001b[0m forward_function, args_with_tangents \u001b[38;5;241m=\u001b[39m forward_backward\u001b[38;5;241m.\u001b[39mforward()\n",
            "File \u001b[0;32m~/Repositories/DICOM-Project-Pytorch/env/lib/python3.11/site-packages/tensorflow/python/eager/polymorphic_function/atomic_function.py:216\u001b[0m, in \u001b[0;36mAtomicFunction.call_preflattened\u001b[0;34m(self, args)\u001b[0m\n\u001b[1;32m    214\u001b[0m \u001b[38;5;28;01mdef\u001b[39;00m \u001b[38;5;21mcall_preflattened\u001b[39m(\u001b[38;5;28mself\u001b[39m, args: Sequence[core\u001b[38;5;241m.\u001b[39mTensor]) \u001b[38;5;241m-\u001b[39m\u001b[38;5;241m>\u001b[39m Any:\n\u001b[1;32m    215\u001b[0m \u001b[38;5;250m  \u001b[39m\u001b[38;5;124;03m\"\"\"Calls with flattened tensor inputs and returns the structured output.\"\"\"\u001b[39;00m\n\u001b[0;32m--> 216\u001b[0m   flat_outputs \u001b[38;5;241m=\u001b[39m \u001b[38;5;28;43mself\u001b[39;49m\u001b[38;5;241;43m.\u001b[39;49m\u001b[43mcall_flat\u001b[49m\u001b[43m(\u001b[49m\u001b[38;5;241;43m*\u001b[39;49m\u001b[43margs\u001b[49m\u001b[43m)\u001b[49m\n\u001b[1;32m    217\u001b[0m   \u001b[38;5;28;01mreturn\u001b[39;00m \u001b[38;5;28mself\u001b[39m\u001b[38;5;241m.\u001b[39mfunction_type\u001b[38;5;241m.\u001b[39mpack_output(flat_outputs)\n",
            "File \u001b[0;32m~/Repositories/DICOM-Project-Pytorch/env/lib/python3.11/site-packages/tensorflow/python/eager/polymorphic_function/atomic_function.py:251\u001b[0m, in \u001b[0;36mAtomicFunction.call_flat\u001b[0;34m(self, *args)\u001b[0m\n\u001b[1;32m    249\u001b[0m \u001b[38;5;28;01mwith\u001b[39;00m record\u001b[38;5;241m.\u001b[39mstop_recording():\n\u001b[1;32m    250\u001b[0m   \u001b[38;5;28;01mif\u001b[39;00m \u001b[38;5;28mself\u001b[39m\u001b[38;5;241m.\u001b[39m_bound_context\u001b[38;5;241m.\u001b[39mexecuting_eagerly():\n\u001b[0;32m--> 251\u001b[0m     outputs \u001b[38;5;241m=\u001b[39m \u001b[38;5;28;43mself\u001b[39;49m\u001b[38;5;241;43m.\u001b[39;49m\u001b[43m_bound_context\u001b[49m\u001b[38;5;241;43m.\u001b[39;49m\u001b[43mcall_function\u001b[49m\u001b[43m(\u001b[49m\n\u001b[1;32m    252\u001b[0m \u001b[43m        \u001b[49m\u001b[38;5;28;43mself\u001b[39;49m\u001b[38;5;241;43m.\u001b[39;49m\u001b[43mname\u001b[49m\u001b[43m,\u001b[49m\n\u001b[1;32m    253\u001b[0m \u001b[43m        \u001b[49m\u001b[38;5;28;43mlist\u001b[39;49m\u001b[43m(\u001b[49m\u001b[43margs\u001b[49m\u001b[43m)\u001b[49m\u001b[43m,\u001b[49m\n\u001b[1;32m    254\u001b[0m \u001b[43m        \u001b[49m\u001b[38;5;28;43mlen\u001b[39;49m\u001b[43m(\u001b[49m\u001b[38;5;28;43mself\u001b[39;49m\u001b[38;5;241;43m.\u001b[39;49m\u001b[43mfunction_type\u001b[49m\u001b[38;5;241;43m.\u001b[39;49m\u001b[43mflat_outputs\u001b[49m\u001b[43m)\u001b[49m\u001b[43m,\u001b[49m\n\u001b[1;32m    255\u001b[0m \u001b[43m    \u001b[49m\u001b[43m)\u001b[49m\n\u001b[1;32m    256\u001b[0m   \u001b[38;5;28;01melse\u001b[39;00m:\n\u001b[1;32m    257\u001b[0m     outputs \u001b[38;5;241m=\u001b[39m make_call_op_in_graph(\n\u001b[1;32m    258\u001b[0m         \u001b[38;5;28mself\u001b[39m,\n\u001b[1;32m    259\u001b[0m         \u001b[38;5;28mlist\u001b[39m(args),\n\u001b[1;32m    260\u001b[0m         \u001b[38;5;28mself\u001b[39m\u001b[38;5;241m.\u001b[39m_bound_context\u001b[38;5;241m.\u001b[39mfunction_call_options\u001b[38;5;241m.\u001b[39mas_attrs(),\n\u001b[1;32m    261\u001b[0m     )\n",
            "File \u001b[0;32m~/Repositories/DICOM-Project-Pytorch/env/lib/python3.11/site-packages/tensorflow/python/eager/context.py:1552\u001b[0m, in \u001b[0;36mContext.call_function\u001b[0;34m(self, name, tensor_inputs, num_outputs)\u001b[0m\n\u001b[1;32m   1550\u001b[0m cancellation_context \u001b[38;5;241m=\u001b[39m cancellation\u001b[38;5;241m.\u001b[39mcontext()\n\u001b[1;32m   1551\u001b[0m \u001b[38;5;28;01mif\u001b[39;00m cancellation_context \u001b[38;5;129;01mis\u001b[39;00m \u001b[38;5;28;01mNone\u001b[39;00m:\n\u001b[0;32m-> 1552\u001b[0m   outputs \u001b[38;5;241m=\u001b[39m \u001b[43mexecute\u001b[49m\u001b[38;5;241;43m.\u001b[39;49m\u001b[43mexecute\u001b[49m\u001b[43m(\u001b[49m\n\u001b[1;32m   1553\u001b[0m \u001b[43m      \u001b[49m\u001b[43mname\u001b[49m\u001b[38;5;241;43m.\u001b[39;49m\u001b[43mdecode\u001b[49m\u001b[43m(\u001b[49m\u001b[38;5;124;43m\"\u001b[39;49m\u001b[38;5;124;43mutf-8\u001b[39;49m\u001b[38;5;124;43m\"\u001b[39;49m\u001b[43m)\u001b[49m\u001b[43m,\u001b[49m\n\u001b[1;32m   1554\u001b[0m \u001b[43m      \u001b[49m\u001b[43mnum_outputs\u001b[49m\u001b[38;5;241;43m=\u001b[39;49m\u001b[43mnum_outputs\u001b[49m\u001b[43m,\u001b[49m\n\u001b[1;32m   1555\u001b[0m \u001b[43m      \u001b[49m\u001b[43minputs\u001b[49m\u001b[38;5;241;43m=\u001b[39;49m\u001b[43mtensor_inputs\u001b[49m\u001b[43m,\u001b[49m\n\u001b[1;32m   1556\u001b[0m \u001b[43m      \u001b[49m\u001b[43mattrs\u001b[49m\u001b[38;5;241;43m=\u001b[39;49m\u001b[43mattrs\u001b[49m\u001b[43m,\u001b[49m\n\u001b[1;32m   1557\u001b[0m \u001b[43m      \u001b[49m\u001b[43mctx\u001b[49m\u001b[38;5;241;43m=\u001b[39;49m\u001b[38;5;28;43mself\u001b[39;49m\u001b[43m,\u001b[49m\n\u001b[1;32m   1558\u001b[0m \u001b[43m  \u001b[49m\u001b[43m)\u001b[49m\n\u001b[1;32m   1559\u001b[0m \u001b[38;5;28;01melse\u001b[39;00m:\n\u001b[1;32m   1560\u001b[0m   outputs \u001b[38;5;241m=\u001b[39m execute\u001b[38;5;241m.\u001b[39mexecute_with_cancellation(\n\u001b[1;32m   1561\u001b[0m       name\u001b[38;5;241m.\u001b[39mdecode(\u001b[38;5;124m\"\u001b[39m\u001b[38;5;124mutf-8\u001b[39m\u001b[38;5;124m\"\u001b[39m),\n\u001b[1;32m   1562\u001b[0m       num_outputs\u001b[38;5;241m=\u001b[39mnum_outputs,\n\u001b[0;32m   (...)\u001b[0m\n\u001b[1;32m   1566\u001b[0m       cancellation_manager\u001b[38;5;241m=\u001b[39mcancellation_context,\n\u001b[1;32m   1567\u001b[0m   )\n",
            "File \u001b[0;32m~/Repositories/DICOM-Project-Pytorch/env/lib/python3.11/site-packages/tensorflow/python/eager/execute.py:53\u001b[0m, in \u001b[0;36mquick_execute\u001b[0;34m(op_name, num_outputs, inputs, attrs, ctx, name)\u001b[0m\n\u001b[1;32m     51\u001b[0m \u001b[38;5;28;01mtry\u001b[39;00m:\n\u001b[1;32m     52\u001b[0m   ctx\u001b[38;5;241m.\u001b[39mensure_initialized()\n\u001b[0;32m---> 53\u001b[0m   tensors \u001b[38;5;241m=\u001b[39m \u001b[43mpywrap_tfe\u001b[49m\u001b[38;5;241;43m.\u001b[39;49m\u001b[43mTFE_Py_Execute\u001b[49m\u001b[43m(\u001b[49m\u001b[43mctx\u001b[49m\u001b[38;5;241;43m.\u001b[39;49m\u001b[43m_handle\u001b[49m\u001b[43m,\u001b[49m\u001b[43m \u001b[49m\u001b[43mdevice_name\u001b[49m\u001b[43m,\u001b[49m\u001b[43m \u001b[49m\u001b[43mop_name\u001b[49m\u001b[43m,\u001b[49m\n\u001b[1;32m     54\u001b[0m \u001b[43m                                      \u001b[49m\u001b[43minputs\u001b[49m\u001b[43m,\u001b[49m\u001b[43m \u001b[49m\u001b[43mattrs\u001b[49m\u001b[43m,\u001b[49m\u001b[43m \u001b[49m\u001b[43mnum_outputs\u001b[49m\u001b[43m)\u001b[49m\n\u001b[1;32m     55\u001b[0m \u001b[38;5;28;01mexcept\u001b[39;00m core\u001b[38;5;241m.\u001b[39m_NotOkStatusException \u001b[38;5;28;01mas\u001b[39;00m e:\n\u001b[1;32m     56\u001b[0m   \u001b[38;5;28;01mif\u001b[39;00m name \u001b[38;5;129;01mis\u001b[39;00m \u001b[38;5;129;01mnot\u001b[39;00m \u001b[38;5;28;01mNone\u001b[39;00m:\n",
            "\u001b[0;31mKeyboardInterrupt\u001b[0m: "
          ]
        }
      ],
      "source": [
        "batch_size = 16\n",
        "val_bath_size = 8\n",
        "epochs = 100\n",
        "\n",
        "histories = []\n",
        "losses = []\n",
        "val_losses = []\n",
        "\n",
        "fold_no = 1\n",
        "\n",
        "models = []\n",
        "\n",
        "for k, (train_index, val_index) in enumerate(kf.split(oversamplet_train_df)):\n",
        "\n",
        "    model = UnetDenseNet(input_shape=(img_w_target,img_h_target, 3))\n",
        "\n",
        "    model.compile(optimizer='adam',\n",
        "                  loss=bce_dice_loss,\n",
        "                  metrics = ['accuracy'])\n",
        "\n",
        "    train_data_frame = oversamplet_train_df.iloc[train_index]\n",
        "    val_data_frame = oversamplet_train_df.iloc[val_index]\n",
        "\n",
        "    train_generator = DataGenerator(\n",
        "        train_data_frame['filename'].values,\n",
        "        train_data_frame['mask'].values,\n",
        "        batch_size=batch_size,\n",
        "        dim=(img_w_target,img_h_target, 3),\n",
        "        shuffle=True)\n",
        "\n",
        "    steps_per_epoch = len(train_data_frame[\"filename\"]) // batch_size\n",
        "\n",
        "    print('------------------------------------------------------------------------')\n",
        "    print(f'Steps per epoch {steps_per_epoch} ...')\n",
        "\n",
        "    val_generator = DataGenerator(\n",
        "        val_data_frame['filename'].values,\n",
        "        val_data_frame['mask'].values,\n",
        "        batch_size=val_bath_size,\n",
        "        dim=(img_w_target,img_h_target, 3),\n",
        "        shuffle=True)\n",
        "\n",
        "    val_steps = len(val_data_frame[\"filename\"]) // val_bath_size\n",
        "\n",
        "    mc = ModelCheckpoint(\n",
        "        mode='min',\n",
        "        monitor='val_loss',\n",
        "        filepath=f'./data/checkpoints/fold_{fold_no}_top.model.weights.h5',\n",
        "        save_best_only='True',\n",
        "        save_weights_only='True',\n",
        "        verbose=1)\n",
        "\n",
        "    es = EarlyStopping(\n",
        "        monitor='val_loss',\n",
        "        min_delta=0.1,\n",
        "        patience=10,\n",
        "        verbose=1,\n",
        "        restore_best_weights=True\n",
        "    )\n",
        "\n",
        "    callbacks = [mc]\n",
        "\n",
        "    print('------------------------------------------------------------------------')\n",
        "    print(f'Training for fold {fold_no} ...')\n",
        "\n",
        "    model_history =  model.fit(\n",
        "        train_generator,\n",
        "        epochs=epochs,\n",
        "        validation_data=val_generator,\n",
        "        callbacks=callbacks)\n",
        "\n",
        "    model_results = model.evaluate(val_generator)\n",
        "\n",
        "    model_results = dict(zip(model.metrics_names,model_results))\n",
        "\n",
        "    histories.append(model_history)\n",
        "    losses.append(model_results['loss'])\n",
        "\n",
        "    models.append(model)\n",
        "\n",
        "    fold_no += 1"
      ]
    },
    {
      "cell_type": "code",
      "execution_count": null,
      "metadata": {
        "id": "neXDO6YMfAO4"
      },
      "outputs": [],
      "source": [
        "for i, trained_model in enumerate(models):\n",
        "  trained_model.save(f'/content/drive/MyDrive/TCC/models/9_densenet_cv.fold_{i}.model.keras')\n",
        "  trained_model.save_weights(f'/content/drive/MyDrive/TCC/weights/9_densenet_cv.fold_{i}.weights.h5')"
      ]
    },
    {
      "cell_type": "code",
      "execution_count": null,
      "metadata": {
        "id": "1P2Rog7TIIkf"
      },
      "outputs": [],
      "source": [
        "# loaded_model_0 = load_model('/content/drive/MyDrive/TCC/models/4_densenet_cv.fold_0.model.keras', compile=False)\n",
        "# loaded_model_1 = load_model('/content/drive/MyDrive/TCC/models/4_densenet_cv.fold_1.model.keras', compile=False)"
      ]
    },
    {
      "cell_type": "code",
      "execution_count": null,
      "metadata": {
        "id": "WhOJ_W0idIwz"
      },
      "outputs": [],
      "source": [
        "import pickle\n",
        "\n",
        "for i, history in enumerate(histories):\n",
        "      print(history.history.keys())\n",
        "\n",
        "      fig, (ax_train, ax_val) = plt.subplots(1, 2, figsize=(15,5))\n",
        "      ax_train.plot(history.epoch, history.history[\"loss\"], label=\"Perda de Treinamento\")\n",
        "      ax_train.legend(loc='upper right')\n",
        "      ax_val.plot(history.epoch, history.history[\"val_loss\"], label=\"Perda de Validação\", color='orange')\n",
        "      ax_val.legend(loc='upper right')"
      ]
    },
    {
      "cell_type": "code",
      "execution_count": null,
      "metadata": {
        "id": "eeJxpyBNNDEL"
      },
      "outputs": [],
      "source": [
        "with open('/content/drive/MyDrive/TCC/history/9_densene_cv_loss.pkl', 'wb') as f:\n",
        "    pickle.dump(histories, f)\n",
        "\n",
        "with open('/content/drive/MyDrive/TCC/history/9_densenet_cv_val_loss.pkl', 'wb') as f:\n",
        "    pickle.dump(histories, f)"
      ]
    },
    {
      "cell_type": "code",
      "execution_count": null,
      "metadata": {
        "id": "arKd3J9sCu3M"
      },
      "outputs": [],
      "source": [
        "# with open('/content/drive/MyDrive/TCC/history/model_history.pkl', 'rb') as f:\n",
        "#     loaded_history = pickle.load(f)"
      ]
    },
    {
      "cell_type": "code",
      "execution_count": null,
      "metadata": {
        "id": "Oy1NsNaafF-M"
      },
      "outputs": [],
      "source": [
        "def make_prediction(model,image,shape):\n",
        "    img = img_to_array(load_img(image,target_size=shape))\n",
        "    img = np.expand_dims(img,axis=0)/255.\n",
        "    mask = model.predict(img, verbose=0)\n",
        "\n",
        "    # mask = np.reshape(mask,(224,224,3))\n",
        "    return mask"
      ]
    },
    {
      "cell_type": "code",
      "execution_count": null,
      "metadata": {
        "id": "srsXvAtDfGwU"
      },
      "outputs": [],
      "source": [
        "def overlay_mask(image, mask, color=(255, 0, 0), alpha=0.5):\n",
        "    \"\"\"\n",
        "    Overlay a mask on an image.\n",
        "\n",
        "    Args:\n",
        "        image: The image to overlay the mask on.\n",
        "        mask: The mask to overlay.\n",
        "        color: The color of the mask.\n",
        "        alpha: The transparency of the mask.\n",
        "\n",
        "    Returns:\n",
        "        The image with the mask overlayed.\n",
        "    \"\"\"\n",
        "    print(type(mask))\n",
        "    mask = np.where(mask > 0.5, 1, 0)\n",
        "\n",
        "    image_with_mask = image.copy()\n",
        "\n",
        "    image_with_mask[mask == 1] = image_with_mask[mask == 1] * alpha\n",
        "\n",
        "    return image_with_mask\n"
      ]
    },
    {
      "cell_type": "code",
      "execution_count": null,
      "metadata": {
        "id": "NuqpH256liTP"
      },
      "outputs": [],
      "source": [
        "def get_predictions_and_labels(model, test_df):\n",
        "     \"\"\"Gets predictions and labels for all images in the test set.\"\"\"\n",
        "     all_predictions = []\n",
        "     all_labels = []\n",
        "\n",
        "     for image_path, mask_path in zip(test_df['filename'], test_df['mask']):\n",
        "       predicted_probs = make_prediction(model, image_path, (img_w_target, img_h_target, 3))[0]\n",
        "       predicted_probs = (predicted_probs > 0.5).astype(int)\n",
        "       predicted_probs = predicted_probs.squeeze()\n",
        "\n",
        "       label = load_img(mask_path, target_size=(img_w_target, img_h_target, 3), color_mode=\"grayscale\")\n",
        "       label = img_to_array(label)[:, :, 0]\n",
        "       label = label != 0\n",
        "       label = label.squeeze()\n",
        "\n",
        "       all_predictions.append(predicted_probs.flatten())\n",
        "       all_labels.append(label.flatten())\n",
        "     return np.concatenate(all_predictions), np.concatenate(all_labels)"
      ]
    },
    {
      "cell_type": "code",
      "execution_count": null,
      "metadata": {
        "id": "BN7xTCynSL95"
      },
      "outputs": [],
      "source": [
        "def generalized_dice_coefficient(y_true, y_pred):\n",
        "    smooth = 1.\n",
        "    y_true_f = K.flatten(y_true)\n",
        "    y_pred_f = K.flatten(y_pred)\n",
        "    intersection = K.sum(y_true_f * y_pred_f)\n",
        "    score = (2. * intersection + smooth) / (K.sum(y_true_f) + K.sum(y_pred_f) + smooth)\n",
        "    return score\n",
        "\n",
        "\n",
        "def calculate_dice_accuracy(model, test_df):\n",
        "     \"\"\"Calculates the average Dice coefficient accuracy for all images in the test set.\"\"\"\n",
        "     dices = []\n",
        "     for image_path, mask_path in zip(test_df['filename'], test_df['mask']):\n",
        "       predicted_probs = make_prediction(model, image_path, (img_w_target, img_h_target, 3))[0]\n",
        "       predicted_probs = predicted_probs.squeeze()\n",
        "\n",
        "       label = load_img(mask_path, target_size=(img_w_target, img_h_target, 3), color_mode=\"grayscale\")\n",
        "       label = img_to_array(label)[:, :, 0]\n",
        "       label = np.where(label != 0, 1, 0).astype(np.float32)\n",
        "       label = label.squeeze()\n",
        "\n",
        "       predicted_mask = (predicted_probs > 0.5).astype(np.float32)\n",
        "\n",
        "       dice = generalized_dice_coefficient(label, predicted_mask)\n",
        "       dices.append(K.get_value(dice))\n",
        "     return np.mean(dices)\n",
        "\n",
        "for model in models:\n",
        "  accuracy = calculate_dice_accuracy(model, test_df)\n",
        "  print(f\"Average Dice Accuracy: {accuracy}\")"
      ]
    },
    {
      "cell_type": "code",
      "execution_count": null,
      "metadata": {
        "id": "-z7-r4DyTXLl"
      },
      "outputs": [],
      "source": [
        "def calculate_sensitivity_specificity(model, test_df):\n",
        "    \"\"\"Calculates sensitivity and specificity for all images in the test set.\"\"\"\n",
        "    all_predictions = []\n",
        "    all_labels = []\n",
        "    for image_path, mask_path in zip(test_df['filename'], test_df['mask']):\n",
        "        predicted_probs = make_prediction(model, image_path, (img_w_target, img_h_target, 3))[0]\n",
        "        predicted_probs = predicted_probs.squeeze()\n",
        "        predicted_mask = (predicted_probs > 0.5).astype(int)\n",
        "        predicted_mask = predicted_mask.flatten()\n",
        "\n",
        "        label = load_img(mask_path, target_size=(img_w_target, img_h_target, 3), color_mode=\"grayscale\")\n",
        "        label = img_to_array(label)[:, :, 0]\n",
        "        label = label != 0\n",
        "        label = label.squeeze()\n",
        "        label = label.astype(int)\n",
        "        label = label.flatten()\n",
        "\n",
        "        all_predictions.append(predicted_mask)\n",
        "        all_labels.append(label)\n",
        "\n",
        "    all_predictions = np.concatenate(all_predictions)\n",
        "    all_labels = np.concatenate(all_labels)\n",
        "\n",
        "    TP = np.sum((all_predictions == 1) & (all_labels == 1))\n",
        "    FP = np.sum((all_predictions == 1) & (all_labels == 0))\n",
        "    TN = np.sum((all_predictions == 0) & (all_labels == 0))\n",
        "    FN = np.sum((all_predictions == 0) & (all_labels == 1))\n",
        "\n",
        "    sensitivity = TP / (TP + FN)\n",
        "    specificity = TN / (TN + FP)\n",
        "\n",
        "    return sensitivity, specificity\n",
        "\n",
        "for model in models:\n",
        "  sensitivity, specificity = calculate_sensitivity_specificity(model, test_df)\n",
        "  print(f\"Sensitivity (Recall): {sensitivity}\")\n",
        "  print(f\"Specificity: {specificity}\")"
      ]
    },
    {
      "cell_type": "code",
      "execution_count": null,
      "metadata": {
        "id": "O3M6XJbsIkA5"
      },
      "outputs": [],
      "source": [
        "plt.figure()\n",
        "plt.plot([0, 1], [0, 1], color='navy', lw=2, linestyle='--')  # Diagonal line for reference\n",
        "\n",
        "for i, model in enumerate(models):\n",
        "    y_pred, y_true = get_predictions_and_labels(model, test_df)\n",
        "    fpr, tpr, _ = roc_curve(y_true, y_pred)\n",
        "    roc_auc = auc(fpr, tpr)\n",
        "    plt.plot(fpr, tpr, lw=2, label=f'Model {i+1} (AUC = {roc_auc:.2f})')\n",
        "\n",
        "plt.xlim([0.0, 1.0])\n",
        "plt.ylim([0.0, 1.05])\n",
        "plt.xlabel('False Positive Rate')\n",
        "plt.ylabel('True Positive Rate')\n",
        "plt.title('Receiver Operating Characteristic for Multiple Models')\n",
        "plt.legend(loc=\"lower right\")\n",
        "plt.show()"
      ]
    },
    {
      "cell_type": "code",
      "execution_count": null,
      "metadata": {
        "id": "IS08AgiufIyY"
      },
      "outputs": [],
      "source": [
        "save_path = '/content/drive/MyDrive/TCC/resultados_parciais_3'\n",
        "\n",
        "model = models[2]\n",
        "\n",
        "test_files_short = test_df['filename'][:50]\n",
        "\n",
        "for test_file in test_files_short:\n",
        "\n",
        "  split_name = test_file.split('/')\n",
        "  slice_name = split_name[-1]\n",
        "  image = test_file\n",
        "  img = img_to_array(load_img(image, target_size=(img_w_target, img_h_target, 3))) / 255\n",
        "  print(img.shape)\n",
        "\n",
        "  plt.figure(figsize=(8,8))\n",
        "  plt.axis('off')\n",
        "\n",
        "  predicted_mask = make_prediction(model,image,(img_w_target, img_h_target, 3))[0]\n",
        "  plt.imshow(predicted_mask)\n",
        "  # plt.savefig(save_path + '/' + slice_name + '.predicted_mask.png', bbox_inches='tight', pad_inches=0)\n",
        "  # plt.savefig(test_file + '.predicted_mask.png', bbox_inches='tight', pad_inches=0)\n",
        "\n",
        "  plt.figure(figsize=(8,8))\n",
        "  plt.axis('off')\n",
        "\n",
        "  plt.imshow(overlay_mask(img, predicted_mask.squeeze(),color=(255, 0, 0), alpha=0.5))\n",
        "  # plt.savefig(save_path + '/' + slice_name + '.overlay_mask.png',  bbox_inches='tight', pad_inches=0)\n",
        "  # plt.savefig(test_file + '.overlay_mask.png', bbox_inches='tight', pad_inches=0)\n"
      ]
    },
    {
      "cell_type": "code",
      "execution_count": null,
      "metadata": {
        "id": "5EkfvL6w2JQq"
      },
      "outputs": [],
      "source": [
        "!pip install visualkeras"
      ]
    },
    {
      "cell_type": "code",
      "execution_count": null,
      "metadata": {
        "id": "S2LyEYtf2L6w"
      },
      "outputs": [],
      "source": [
        "import visualkeras"
      ]
    },
    {
      "cell_type": "code",
      "execution_count": null,
      "metadata": {
        "id": "lt4z_DS42U-t"
      },
      "outputs": [],
      "source": [
        "# visualkeras.layered_view(model).show()\n",
        "visualkeras.layered_view(\n",
        "    model,\n",
        "    type_ignore=[BatchNormalization, AveragePooling2D, Activation],\n",
        "    to_file='output.png',\n",
        "    legend=True,\n",
        "    scale_xy=2, scale_z=0.5, max_z=5)"
      ]
    },
    {
      "cell_type": "code",
      "execution_count": null,
      "metadata": {
        "id": "-NB5kOG420aX"
      },
      "outputs": [],
      "source": [
        "print(model.summary())"
      ]
    }
  ],
  "metadata": {
    "accelerator": "GPU",
    "colab": {
      "gpuType": "L4",
      "provenance": []
    },
    "kernelspec": {
      "display_name": "env",
      "language": "python",
      "name": "python3"
    },
    "language_info": {
      "codemirror_mode": {
        "name": "ipython",
        "version": 3
      },
      "file_extension": ".py",
      "mimetype": "text/x-python",
      "name": "python",
      "nbconvert_exporter": "python",
      "pygments_lexer": "ipython3",
      "version": "3.11.2"
    }
  },
  "nbformat": 4,
  "nbformat_minor": 0
}
